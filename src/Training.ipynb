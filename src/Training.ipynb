{
 "cells": [
  {
   "cell_type": "code",
   "execution_count": 31,
   "metadata": {},
   "outputs": [],
   "source": [
    "import json\n",
    "import numpy as np\n",
    "import tensorflow as tf\n",
    "from sklearn.model_selection import train_test_split\n",
    "from sklearn.preprocessing import StandardScaler, LabelEncoder\n",
    "import pickle"
   ]
  },
  {
   "cell_type": "code",
   "execution_count": 14,
   "metadata": {},
   "outputs": [],
   "source": [
    "# 1. Load the data from the JSON file\n",
    "with open('/Users/farhanshakeel/Desktop/data.json', 'r') as f:\n",
    "    data = json.load(f)"
   ]
  },
  {
   "cell_type": "code",
   "execution_count": 24,
   "metadata": {},
   "outputs": [],
   "source": [
    "\n",
    "# 2. Preprocess and split the data into training and validation sets\n",
    "X = []\n",
    "y = []\n",
    "\n",
    "for label, coords in data.items():\n",
    "    for coord in coords:\n",
    "        X.append(np.array(coord).flatten())\n",
    "        y.append(label)\n",
    "\n",
    "X = np.array(X)\n",
    "y = np.array(y)\n"
   ]
  },
  {
   "cell_type": "code",
   "execution_count": 25,
   "metadata": {},
   "outputs": [],
   "source": [
    "# Standardize the data\n",
    "scaler = StandardScaler()\n",
    "X = scaler.fit_transform(X)\n",
    "\n",
    "# Encode the labels\n",
    "encoder = LabelEncoder()\n",
    "y = encoder.fit_transform(y)\n"
   ]
  },
  {
   "cell_type": "code",
   "execution_count": 26,
   "metadata": {},
   "outputs": [],
   "source": [
    "# Split the data into training and validation sets\n",
    "X_train, X_val, y_train, y_val = train_test_split(X, y, test_size=0.2, random_state=42)\n"
   ]
  },
  {
   "cell_type": "code",
   "execution_count": 27,
   "metadata": {},
   "outputs": [],
   "source": [
    "# 3. Create a suitable model architecture using TensorFlow\n",
    "model = tf.keras.Sequential([\n",
    "    tf.keras.layers.Dense(64, activation='relu', input_shape=(X_train.shape[1],)),\n",
    "    tf.keras.layers.Dropout(0.5),\n",
    "    tf.keras.layers.Dense(64, activation='relu'),\n",
    "    tf.keras.layers.Dropout(0.5),\n",
    "    tf.keras.layers.Dense(29, activation='softmax')\n",
    "])\n"
   ]
  },
  {
   "cell_type": "code",
   "execution_count": 28,
   "metadata": {},
   "outputs": [],
   "source": [
    "# Compile the model\n",
    "model.compile(optimizer='adam', loss='sparse_categorical_crossentropy', metrics=['accuracy'])\n"
   ]
  },
  {
   "cell_type": "code",
   "execution_count": 29,
   "metadata": {},
   "outputs": [
    {
     "name": "stdout",
     "output_type": "stream",
     "text": [
      "Epoch 1/50\n",
      "723/723 [==============================] - 7s 9ms/step - loss: 1.8715 - accuracy: 0.4959 - val_loss: 0.6550 - val_accuracy: 0.8406\n",
      "Epoch 2/50\n",
      "723/723 [==============================] - 7s 9ms/step - loss: 0.6712 - accuracy: 0.8089 - val_loss: 0.3858 - val_accuracy: 0.8970\n",
      "Epoch 3/50\n",
      "723/723 [==============================] - 7s 10ms/step - loss: 0.4594 - accuracy: 0.8674 - val_loss: 0.3024 - val_accuracy: 0.9153\n",
      "Epoch 4/50\n",
      "723/723 [==============================] - 7s 10ms/step - loss: 0.3851 - accuracy: 0.8885 - val_loss: 0.2644 - val_accuracy: 0.9293\n",
      "Epoch 5/50\n",
      "723/723 [==============================] - 7s 10ms/step - loss: 0.3405 - accuracy: 0.9028 - val_loss: 0.2509 - val_accuracy: 0.9262\n",
      "Epoch 6/50\n",
      "723/723 [==============================] - 7s 10ms/step - loss: 0.3210 - accuracy: 0.9071 - val_loss: 0.2262 - val_accuracy: 0.9433\n",
      "Epoch 7/50\n",
      "723/723 [==============================] - 7s 9ms/step - loss: 0.3056 - accuracy: 0.9114 - val_loss: 0.2251 - val_accuracy: 0.9379\n",
      "Epoch 8/50\n",
      "723/723 [==============================] - 6s 9ms/step - loss: 0.2851 - accuracy: 0.9187 - val_loss: 0.2094 - val_accuracy: 0.9454\n",
      "Epoch 9/50\n",
      "723/723 [==============================] - 6s 9ms/step - loss: 0.2700 - accuracy: 0.9229 - val_loss: 0.1982 - val_accuracy: 0.9461\n",
      "Epoch 10/50\n",
      "723/723 [==============================] - 6s 8ms/step - loss: 0.2679 - accuracy: 0.9227 - val_loss: 0.1970 - val_accuracy: 0.9483\n",
      "Epoch 11/50\n",
      "723/723 [==============================] - 6s 8ms/step - loss: 0.2541 - accuracy: 0.9272 - val_loss: 0.1819 - val_accuracy: 0.9535\n",
      "Epoch 12/50\n",
      "723/723 [==============================] - 6s 8ms/step - loss: 0.2479 - accuracy: 0.9293 - val_loss: 0.1834 - val_accuracy: 0.9507\n",
      "Epoch 13/50\n",
      "723/723 [==============================] - 6s 8ms/step - loss: 0.2424 - accuracy: 0.9287 - val_loss: 0.1913 - val_accuracy: 0.9455\n",
      "Epoch 14/50\n",
      "723/723 [==============================] - 6s 8ms/step - loss: 0.2391 - accuracy: 0.9302 - val_loss: 0.1887 - val_accuracy: 0.9483\n",
      "Epoch 15/50\n",
      "723/723 [==============================] - 6s 8ms/step - loss: 0.2328 - accuracy: 0.9334 - val_loss: 0.1752 - val_accuracy: 0.9512\n",
      "Epoch 16/50\n",
      "723/723 [==============================] - 6s 8ms/step - loss: 0.2274 - accuracy: 0.9345 - val_loss: 0.1636 - val_accuracy: 0.9540\n",
      "Epoch 17/50\n",
      "723/723 [==============================] - 6s 8ms/step - loss: 0.2176 - accuracy: 0.9348 - val_loss: 0.1701 - val_accuracy: 0.9561\n",
      "Epoch 18/50\n",
      "723/723 [==============================] - 7s 9ms/step - loss: 0.2088 - accuracy: 0.9399 - val_loss: 0.1707 - val_accuracy: 0.9480\n",
      "Epoch 19/50\n",
      "723/723 [==============================] - 7s 9ms/step - loss: 0.2122 - accuracy: 0.9384 - val_loss: 0.1650 - val_accuracy: 0.9544\n",
      "Epoch 20/50\n",
      "723/723 [==============================] - 7s 9ms/step - loss: 0.2135 - accuracy: 0.9394 - val_loss: 0.1601 - val_accuracy: 0.9573\n",
      "Epoch 21/50\n",
      "723/723 [==============================] - 7s 9ms/step - loss: 0.1972 - accuracy: 0.9411 - val_loss: 0.1594 - val_accuracy: 0.9570\n",
      "Epoch 22/50\n",
      "723/723 [==============================] - 6s 9ms/step - loss: 0.2013 - accuracy: 0.9415 - val_loss: 0.1521 - val_accuracy: 0.9594\n",
      "Epoch 23/50\n",
      "723/723 [==============================] - 6s 9ms/step - loss: 0.1967 - accuracy: 0.9440 - val_loss: 0.1577 - val_accuracy: 0.9583\n",
      "Epoch 24/50\n",
      "723/723 [==============================] - 7s 9ms/step - loss: 0.1987 - accuracy: 0.9425 - val_loss: 0.1540 - val_accuracy: 0.9566\n",
      "Epoch 25/50\n",
      "723/723 [==============================] - 7s 9ms/step - loss: 0.1950 - accuracy: 0.9428 - val_loss: 0.1554 - val_accuracy: 0.9568\n",
      "Epoch 26/50\n",
      "723/723 [==============================] - 6s 9ms/step - loss: 0.1908 - accuracy: 0.9447 - val_loss: 0.1491 - val_accuracy: 0.9628\n",
      "Epoch 27/50\n",
      "723/723 [==============================] - 6s 8ms/step - loss: 0.1886 - accuracy: 0.9448 - val_loss: 0.1462 - val_accuracy: 0.9606\n",
      "Epoch 28/50\n",
      "723/723 [==============================] - 6s 8ms/step - loss: 0.1867 - accuracy: 0.9465 - val_loss: 0.1418 - val_accuracy: 0.9614\n",
      "Epoch 29/50\n",
      "723/723 [==============================] - 6s 9ms/step - loss: 0.1896 - accuracy: 0.9435 - val_loss: 0.1559 - val_accuracy: 0.9573\n",
      "Epoch 30/50\n",
      "723/723 [==============================] - 6s 9ms/step - loss: 0.1870 - accuracy: 0.9443 - val_loss: 0.1432 - val_accuracy: 0.9573\n",
      "Epoch 31/50\n",
      "723/723 [==============================] - 6s 9ms/step - loss: 0.1795 - accuracy: 0.9470 - val_loss: 0.1477 - val_accuracy: 0.9578\n",
      "Epoch 32/50\n",
      "723/723 [==============================] - 6s 9ms/step - loss: 0.1808 - accuracy: 0.9463 - val_loss: 0.1426 - val_accuracy: 0.9592\n",
      "Epoch 33/50\n",
      "723/723 [==============================] - 6s 9ms/step - loss: 0.1684 - accuracy: 0.9513 - val_loss: 0.1337 - val_accuracy: 0.9646\n",
      "Epoch 34/50\n",
      "723/723 [==============================] - 6s 9ms/step - loss: 0.1763 - accuracy: 0.9488 - val_loss: 0.1418 - val_accuracy: 0.9632\n",
      "Epoch 35/50\n",
      "723/723 [==============================] - 6s 9ms/step - loss: 0.1769 - accuracy: 0.9479 - val_loss: 0.1395 - val_accuracy: 0.9627\n",
      "Epoch 36/50\n",
      "723/723 [==============================] - 7s 10ms/step - loss: 0.1716 - accuracy: 0.9484 - val_loss: 0.1383 - val_accuracy: 0.9611\n",
      "Epoch 37/50\n",
      "723/723 [==============================] - 6s 9ms/step - loss: 0.1744 - accuracy: 0.9498 - val_loss: 0.1361 - val_accuracy: 0.9639\n",
      "Epoch 38/50\n",
      "723/723 [==============================] - 6s 9ms/step - loss: 0.1710 - accuracy: 0.9498 - val_loss: 0.1341 - val_accuracy: 0.9642\n",
      "Epoch 39/50\n",
      "723/723 [==============================] - 6s 9ms/step - loss: 0.1691 - accuracy: 0.9498 - val_loss: 0.1258 - val_accuracy: 0.9656\n",
      "Epoch 40/50\n",
      "723/723 [==============================] - 6s 9ms/step - loss: 0.1680 - accuracy: 0.9501 - val_loss: 0.1352 - val_accuracy: 0.9595\n",
      "Epoch 41/50\n",
      "723/723 [==============================] - 6s 9ms/step - loss: 0.1676 - accuracy: 0.9509 - val_loss: 0.1341 - val_accuracy: 0.9621\n",
      "Epoch 42/50\n",
      "723/723 [==============================] - 6s 9ms/step - loss: 0.1583 - accuracy: 0.9541 - val_loss: 0.1389 - val_accuracy: 0.9637\n",
      "Epoch 43/50\n",
      "723/723 [==============================] - 7s 10ms/step - loss: 0.1630 - accuracy: 0.9513 - val_loss: 0.1311 - val_accuracy: 0.9684\n",
      "Epoch 44/50\n",
      "723/723 [==============================] - 6s 9ms/step - loss: 0.1611 - accuracy: 0.9528 - val_loss: 0.1259 - val_accuracy: 0.9687\n",
      "Epoch 45/50\n",
      "723/723 [==============================] - 6s 9ms/step - loss: 0.1638 - accuracy: 0.9523 - val_loss: 0.1250 - val_accuracy: 0.9678\n",
      "Epoch 46/50\n",
      "723/723 [==============================] - 6s 9ms/step - loss: 0.1593 - accuracy: 0.9535 - val_loss: 0.1228 - val_accuracy: 0.9670\n",
      "Epoch 47/50\n",
      "723/723 [==============================] - 6s 9ms/step - loss: 0.1563 - accuracy: 0.9540 - val_loss: 0.1230 - val_accuracy: 0.9659\n",
      "Epoch 48/50\n",
      "723/723 [==============================] - 6s 8ms/step - loss: 0.1578 - accuracy: 0.9537 - val_loss: 0.1284 - val_accuracy: 0.9670\n",
      "Epoch 49/50\n",
      "723/723 [==============================] - 6s 9ms/step - loss: 0.1600 - accuracy: 0.9532 - val_loss: 0.1224 - val_accuracy: 0.9670\n",
      "Epoch 50/50\n",
      "723/723 [==============================] - 7s 9ms/step - loss: 0.1581 - accuracy: 0.9534 - val_loss: 0.1203 - val_accuracy: 0.9666\n"
     ]
    }
   ],
   "source": [
    "# 4. Train the model using the training data\n",
    "history = model.fit(X_train, y_train, epochs=50, validation_data=(X_val, y_val), batch_size=32)\n"
   ]
  },
  {
   "cell_type": "code",
   "execution_count": 30,
   "metadata": {},
   "outputs": [
    {
     "name": "stdout",
     "output_type": "stream",
     "text": [
      "181/181 [==============================] - 1s 5ms/step - loss: 0.1203 - accuracy: 0.9666\n",
      "Accuracy: 96.66%\n"
     ]
    }
   ],
   "source": [
    "# 5. Evaluate the model using the validation data\n",
    "_, accuracy = model.evaluate(X_val, y_val)\n",
    "print(\"Accuracy: {:.2f}%\".format(accuracy * 100))"
   ]
  },
  {
   "cell_type": "code",
   "execution_count": 36,
   "metadata": {},
   "outputs": [
    {
     "name": "stdout",
     "output_type": "stream",
     "text": [
      "181/181 [==============================] - 1s 3ms/step\n",
      "              precision    recall  f1-score   support\n",
      "\n",
      "           A       1.00      0.98      0.99       458\n",
      "           B       0.99      1.00      0.99       291\n",
      "           C       1.00      0.96      0.98        24\n",
      "           D       0.99      0.97      0.98       148\n",
      "           E       0.98      0.99      0.99       391\n",
      "           F       1.00      0.96      0.98       255\n",
      "           G       0.99      1.00      0.99       459\n",
      "           H       0.99      1.00      0.99       216\n",
      "           I       1.00      0.97      0.98       187\n",
      "           J       1.00      0.97      0.98       275\n",
      "           K       1.00      0.97      0.99       457\n",
      "           L       0.99      0.98      0.98       438\n",
      "           M       0.74      0.93      0.83        84\n",
      "           N       0.94      0.79      0.86        91\n",
      "           O       0.92      1.00      0.96        58\n",
      "           P       1.00      0.79      0.88        29\n",
      "           Q       0.81      0.89      0.85        44\n",
      "           R       0.94      0.84      0.89       185\n",
      "           S       0.92      0.94      0.93       215\n",
      "           T       0.96      0.95      0.95       182\n",
      "           U       0.85      0.94      0.89       215\n",
      "           V       0.93      0.98      0.95       184\n",
      "           W       0.99      0.96      0.97       141\n",
      "           X       0.94      0.91      0.93       128\n",
      "           Y       0.99      1.00      0.99       267\n",
      "           Z       0.99      1.00      0.99       250\n",
      "         del       0.89      0.94      0.92        54\n",
      "       space       0.77      0.95      0.85        58\n",
      "\n",
      "    accuracy                           0.97      5784\n",
      "   macro avg       0.95      0.95      0.95      5784\n",
      "weighted avg       0.97      0.97      0.97      5784\n",
      "\n"
     ]
    }
   ],
   "source": [
    "from sklearn.metrics import classification_report\n",
    "\n",
    "# Obtain the predicted labels for the validation data\n",
    "y_val_pred = model.predict(X_val)\n",
    "y_val_pred_labels = np.argmax(y_val_pred, axis=1)\n",
    "\n",
    "# Decode the labels back to the original class names\n",
    "y_val_true_labels = encoder.inverse_transform(y_val)\n",
    "y_val_pred_labels_decoded = encoder.inverse_transform(y_val_pred_labels)\n",
    "\n",
    "# Print the classification report\n",
    "print(classification_report(y_val_true_labels, y_val_pred_labels_decoded))\n"
   ]
  },
  {
   "cell_type": "code",
   "execution_count": 35,
   "metadata": {},
   "outputs": [],
   "source": [
    "model.save(\"final_asl3.h5\")"
   ]
  },
  {
   "cell_type": "code",
   "execution_count": 32,
   "metadata": {},
   "outputs": [],
   "source": [
    "with open('scaler.pkl', 'wb') as f:\n",
    "    pickle.dump(scaler, f)"
   ]
  },
  {
   "cell_type": "code",
   "execution_count": 33,
   "metadata": {},
   "outputs": [],
   "source": [
    "with open('label_encoder.pkl', 'wb') as f:\n",
    "    pickle.dump(encoder, f)"
   ]
  }
 ],
 "metadata": {
  "kernelspec": {
   "display_name": "Python 3",
   "language": "python",
   "name": "python3"
  },
  "language_info": {
   "codemirror_mode": {
    "name": "ipython",
    "version": 3
   },
   "file_extension": ".py",
   "mimetype": "text/x-python",
   "name": "python",
   "nbconvert_exporter": "python",
   "pygments_lexer": "ipython3",
   "version": "3.10.9"
  },
  "orig_nbformat": 4
 },
 "nbformat": 4,
 "nbformat_minor": 2
}
